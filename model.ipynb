{
 "cells": [
  {
   "cell_type": "code",
   "execution_count": 1,
   "metadata": {},
   "outputs": [],
   "source": [
    "import tensorflow as tf\n",
    "from tensorflow import keras\n",
    "from keras.models import Sequential\n",
    "from keras.layers import Dense, Conv2D, MaxPooling2D, Dropout, BatchNormalization, Flatten\n",
    "from keras.callbacks import EarlyStopping\n",
    "from keras.optimizers import Adam\n",
    "import matplotlib.pyplot as plt"
   ]
  },
  {
   "cell_type": "code",
   "execution_count": 2,
   "metadata": {},
   "outputs": [
    {
     "name": "stdout",
     "output_type": "stream",
     "text": [
      "Found 47029 files belonging to 2 classes.\n",
      "Found 11649 files belonging to 2 classes.\n"
     ]
    }
   ],
   "source": [
    "train_data = keras.utils.image_dataset_from_directory(\n",
    "    directory = 'Data\\\\Training',\n",
    "    labels = 'inferred',\n",
    "    label_mode ='int',\n",
    "    color_mode ='rgb',\n",
    "    batch_size = 32,\n",
    "    image_size = (48, 48),\n",
    "    shuffle = True\n",
    ")\n",
    "\n",
    "test_data = keras.utils.image_dataset_from_directory(\n",
    "    directory = 'Data\\\\Validation',\n",
    "    labels = 'inferred',\n",
    "    label_mode = 'int',\n",
    "    color_mode = 'rgb',\n",
    "    batch_size = 32,\n",
    "    image_size = (48, 48),\n",
    "    shuffle = True\n",
    ")"
   ]
  },
  {
   "cell_type": "code",
   "execution_count": 3,
   "metadata": {},
   "outputs": [],
   "source": [
    "# Normalize\n",
    "def process(image, label):\n",
    "    image = tf.cast(image/255. , tf.float32)\n",
    "    return image, label\n",
    "\n",
    "train_data = train_data.map(process)\n",
    "test_data = test_data.map(process) "
   ]
  },
  {
   "cell_type": "code",
   "execution_count": 4,
   "metadata": {},
   "outputs": [],
   "source": [
    "model = Sequential()\n",
    "\n",
    "model.add(Conv2D(64, (5, 5), padding = 'valid', activation = 'relu', input_shape = (48, 48, 3)))\n",
    "# model.add(BatchNormalization())\n",
    "model.add(MaxPooling2D(pool_size = (2, 2), strides = 2, padding = 'valid'))\n",
    "# model.add(Dropout(0.25))\n",
    "\n",
    "model.add(Conv2D(32, (3, 3), padding = 'valid', activation = 'relu'))\n",
    "# model.add(BatchNormalization())\n",
    "model.add(MaxPooling2D(pool_size = (2, 2), strides = 2, padding = 'valid'))\n",
    "# model.add(Dropout(0.25))\n",
    "\n",
    "model.add(Conv2D(12, (3, 3), padding = 'valid', activation = 'relu'))\n",
    "# model.add(BatchNormalization())\n",
    "model.add(MaxPooling2D(pool_size = (2, 2), strides = 2, padding = 'valid'))\n",
    "# model.add(Dropout(0.25))\n",
    "\n",
    "model.add(Flatten())\n",
    "\n",
    "model.add(Dense(128, activation = 'relu'))\n",
    "model.add(Dense(64, activation = 'relu'))\n",
    "\n",
    "model.add(Dense(1, activation = 'sigmoid')) "
   ]
  },
  {
   "cell_type": "code",
   "execution_count": 5,
   "metadata": {},
   "outputs": [
    {
     "name": "stdout",
     "output_type": "stream",
     "text": [
      "Model: \"sequential\"\n",
      "_________________________________________________________________\n",
      " Layer (type)                Output Shape              Param #   \n",
      "=================================================================\n",
      " conv2d (Conv2D)             (None, 44, 44, 64)        4864      \n",
      "                                                                 \n",
      " max_pooling2d (MaxPooling2D  (None, 22, 22, 64)       0         \n",
      " )                                                               \n",
      "                                                                 \n",
      " conv2d_1 (Conv2D)           (None, 20, 20, 32)        18464     \n",
      "                                                                 \n",
      " max_pooling2d_1 (MaxPooling  (None, 10, 10, 32)       0         \n",
      " 2D)                                                             \n",
      "                                                                 \n",
      " conv2d_2 (Conv2D)           (None, 8, 8, 12)          3468      \n",
      "                                                                 \n",
      " max_pooling2d_2 (MaxPooling  (None, 4, 4, 12)         0         \n",
      " 2D)                                                             \n",
      "                                                                 \n",
      " flatten (Flatten)           (None, 192)               0         \n",
      "                                                                 \n",
      " dense (Dense)               (None, 128)               24704     \n",
      "                                                                 \n",
      " dense_1 (Dense)             (None, 64)                8256      \n",
      "                                                                 \n",
      " dense_2 (Dense)             (None, 1)                 65        \n",
      "                                                                 \n",
      "=================================================================\n",
      "Total params: 59,821\n",
      "Trainable params: 59,821\n",
      "Non-trainable params: 0\n",
      "_________________________________________________________________\n",
      "None\n"
     ]
    }
   ],
   "source": [
    "print(model.summary())"
   ]
  },
  {
   "cell_type": "code",
   "execution_count": 6,
   "metadata": {},
   "outputs": [
    {
     "name": "stdout",
     "output_type": "stream",
     "text": [
      "Epoch 1/200\n",
      "1470/1470 [==============================] - 380s 256ms/step - loss: 0.3561 - accuracy: 0.8459 - val_loss: 0.2068 - val_accuracy: 0.9254\n",
      "Epoch 2/200\n",
      "1470/1470 [==============================] - 12s 8ms/step - loss: 0.1951 - accuracy: 0.9287 - val_loss: 0.1606 - val_accuracy: 0.9417\n",
      "Epoch 3/200\n",
      "1470/1470 [==============================] - 12s 8ms/step - loss: 0.1680 - accuracy: 0.9384 - val_loss: 0.1574 - val_accuracy: 0.9435\n",
      "Epoch 4/200\n",
      "1470/1470 [==============================] - 12s 8ms/step - loss: 0.1540 - accuracy: 0.9444 - val_loss: 0.1357 - val_accuracy: 0.9510\n",
      "Epoch 5/200\n",
      "1470/1470 [==============================] - 12s 8ms/step - loss: 0.1456 - accuracy: 0.9471 - val_loss: 0.1298 - val_accuracy: 0.9538\n",
      "Epoch 6/200\n",
      "1470/1470 [==============================] - 12s 8ms/step - loss: 0.1373 - accuracy: 0.9516 - val_loss: 0.1265 - val_accuracy: 0.9529\n",
      "Epoch 7/200\n",
      "1470/1470 [==============================] - 12s 8ms/step - loss: 0.1325 - accuracy: 0.9527 - val_loss: 0.1228 - val_accuracy: 0.9544\n",
      "Epoch 8/200\n",
      "1470/1470 [==============================] - 12s 8ms/step - loss: 0.1262 - accuracy: 0.9548 - val_loss: 0.1207 - val_accuracy: 0.9565\n",
      "Epoch 9/200\n",
      "1470/1470 [==============================] - 12s 8ms/step - loss: 0.1231 - accuracy: 0.9562 - val_loss: 0.1161 - val_accuracy: 0.9572\n",
      "Epoch 10/200\n",
      "1470/1470 [==============================] - 12s 8ms/step - loss: 0.1181 - accuracy: 0.9579 - val_loss: 0.1346 - val_accuracy: 0.9505\n",
      "Epoch 11/200\n",
      "1470/1470 [==============================] - 14s 9ms/step - loss: 0.1151 - accuracy: 0.9601 - val_loss: 0.1111 - val_accuracy: 0.9591\n",
      "Epoch 12/200\n",
      "1470/1470 [==============================] - 13s 9ms/step - loss: 0.1124 - accuracy: 0.9603 - val_loss: 0.1188 - val_accuracy: 0.9565\n",
      "Epoch 13/200\n",
      "1470/1470 [==============================] - 13s 9ms/step - loss: 0.1087 - accuracy: 0.9614 - val_loss: 0.1045 - val_accuracy: 0.9613\n",
      "Epoch 14/200\n",
      "1470/1470 [==============================] - 13s 9ms/step - loss: 0.1055 - accuracy: 0.9632 - val_loss: 0.1057 - val_accuracy: 0.9614\n",
      "Epoch 15/200\n",
      "1470/1470 [==============================] - 13s 9ms/step - loss: 0.1029 - accuracy: 0.9636 - val_loss: 0.1080 - val_accuracy: 0.9615\n",
      "Epoch 16/200\n",
      "1470/1470 [==============================] - 13s 9ms/step - loss: 0.1004 - accuracy: 0.9648 - val_loss: 0.1053 - val_accuracy: 0.9614\n",
      "Epoch 17/200\n",
      "1470/1470 [==============================] - 13s 9ms/step - loss: 0.0974 - accuracy: 0.9659 - val_loss: 0.1215 - val_accuracy: 0.9561\n",
      "Epoch 18/200\n",
      "1470/1470 [==============================] - 13s 9ms/step - loss: 0.0959 - accuracy: 0.9664 - val_loss: 0.1074 - val_accuracy: 0.9621\n"
     ]
    }
   ],
   "source": [
    "model.compile(optimizer=Adam(learning_rate=1e-4), loss = 'binary_crossentropy', metrics = ['accuracy'])\n",
    "\n",
    "early_stopping = EarlyStopping(\n",
    "    monitor='val_loss',         # You can monitor 'val_accuracy' instead\n",
    "    patience=5,                 # Number of epochs to wait for improvement\n",
    "    restore_best_weights=True   # Restore the best weights\n",
    ")\n",
    "\n",
    "history = model.fit(train_data, epochs = 200, validation_data=test_data, callbacks=[early_stopping])"
   ]
  },
  {
   "cell_type": "code",
   "execution_count": 7,
   "metadata": {},
   "outputs": [
    {
     "data": {
      "image/png": "[encoded data removed]",
      "text/plain": [
       "<Figure size 640x480 with 1 Axes>"
      ]
     },
     "metadata": {},
     "output_type": "display_data"
    }
   ],
   "source": [
    "plt.plot(history.history['accuracy'], color='red', label='train')\n",
    "plt.plot(history.history['val_accuracy'], color='blue', label='validation')\n",
    "plt.legend()\n",
    "plt.show()"
   ]
  },
  {
   "cell_type": "code",
   "execution_count": 10,
   "metadata": {},
   "outputs": [],
   "source": [
    "model.save('best_model.h5')"
   ]
  },
  {
   "cell_type": "code",
   "execution_count": 11,
   "metadata": {},
   "outputs": [
    {
     "name": "stdout",
     "output_type": "stream",
     "text": [
      "365/365 [==============================] - 2s 6ms/step - loss: 0.1045 - accuracy: 0.9613\n",
      "Test Loss: 0.10451332479715347\n",
      "Test Accuracy: 0.9612842202186584\n"
     ]
    }
   ],
   "source": [
    "test_loss, test_accuracy = model.evaluate(test_data)\n",
    "print(f\"Test Loss: {test_loss}\")\n",
    "print(f\"Test Accuracy: {test_accuracy}\")"
   ]
  },
  {
   "cell_type": "code",
   "execution_count": null,
   "metadata": {},
   "outputs": [],
   "source": []
  }
 ],
 "metadata": {
  "kernelspec": {
   "display_name": "Tensorflow",
   "language": "python",
   "name": "python3"
  },
  "language_info": {
   "codemirror_mode": {
    "name": "ipython",
    "version": 3
   },
   "file_extension": ".py",
   "mimetype": "text/x-python",
   "name": "python",
   "nbconvert_exporter": "python",
   "pygments_lexer": "ipython3",
   "version": "3.10.14"
  }
 },
 "nbformat": 4,
 "nbformat_minor": 2
}
